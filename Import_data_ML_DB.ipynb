{
 "cells": [
  {
   "cell_type": "code",
   "execution_count": 1,
   "id": "89c11170-f1ca-4989-8972-3d931281fe63",
   "metadata": {},
   "outputs": [],
   "source": [
    "import pandas as pd\n",
    "from sqlalchemy import create_engine\n",
    "import psycopg2"
   ]
  },
  {
   "cell_type": "code",
   "execution_count": 11,
   "id": "afd480e7-2db2-485d-a039-b2a65a73e8fa",
   "metadata": {},
   "outputs": [
    {
     "name": "stdout",
     "output_type": "stream",
     "text": [
      "Dados importados da planilha Beach para a tabela beach com sucesso.\n",
      "Dados importados da planilha SurveyDetails para a tabela surveydetails com sucesso.\n",
      "Dados importados da planilha LitterData para a tabela litterdata com sucesso.\n",
      "Dados importados da planilha WeatherData para a tabela weatherdata com sucesso.\n",
      "Dados importados da planilha BeachLog para a tabela beachlog com sucesso.\n",
      "Importação de dados concluída.\n"
     ]
    }
   ],
   "source": [
    "\n",
    "# Configurações de conexão com o PostgreSQL\n",
    "username = 'postgres'\n",
    "password = 'bramos7373'\n",
    "host = 'localhost'\n",
    "port = '5432'\n",
    "database = 'postgres'\n",
    "\n",
    "# Cria a string de conexão\n",
    "connection_string = f'postgresql://{username}:{password}@{host}:{port}/{database}'\n",
    "\n",
    "# Cria a engine do SQLAlchemy\n",
    "engine = create_engine(connection_string)\n",
    "\n",
    "# Caminho para o arquivo Excel\n",
    "excel_file = '/Downloads/ML_DB.xlsx'\n",
    "\n",
    "# Dicionário mapeando cada planilha para a tabela correspondente no banco de dados\n",
    "sheets_to_tables = {\n",
    "    'Beach': 'beach',\n",
    "    'SurveyDetails': 'surveydetails',\n",
    "    'LitterData': 'litterdata',\n",
    "    'WeatherData': 'weatherdata',\n",
    "    'BeachLog': 'beachlog'\n",
    "}\n",
    "\n",
    "# Itera sobre cada planilha e importa os dados\n",
    "for sheet_name, table_name in sheets_to_tables.items():\n",
    "    # Lê a planilha do Excel\n",
    "    df = pd.read_excel(excel_file, sheet_name=sheet_name)\n",
    "    \n",
    "    # Insere os dados na tabela correspondente no PostgreSQL\n",
    "    df.to_sql(table_name, engine, if_exists='append', index=False)\n",
    "    \n",
    "    print(f'Dados importados da planilha {sheet_name} para a tabela {table_name} com sucesso.')\n",
    "\n",
    "print('Importação de dados concluída.')\n"
   ]
  },
  {
   "cell_type": "code",
   "execution_count": null,
   "id": "ede6f485-06a1-4355-9def-57368f351803",
   "metadata": {},
   "outputs": [],
   "source": []
  },
  {
   "cell_type": "code",
   "execution_count": null,
   "id": "00afe97e-cfea-45ef-aec2-fe19ae3d2b7f",
   "metadata": {},
   "outputs": [],
   "source": []
  }
 ],
 "metadata": {
  "kernelspec": {
   "display_name": "Python 3 (ipykernel)",
   "language": "python",
   "name": "python3"
  },
  "language_info": {
   "codemirror_mode": {
    "name": "ipython",
    "version": 3
   },
   "file_extension": ".py",
   "mimetype": "text/x-python",
   "name": "python",
   "nbconvert_exporter": "python",
   "pygments_lexer": "ipython3",
   "version": "3.12.2"
  }
 },
 "nbformat": 4,
 "nbformat_minor": 5
}
